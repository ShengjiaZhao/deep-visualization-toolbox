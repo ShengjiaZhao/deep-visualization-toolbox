{
 "cells": [
  {
   "cell_type": "code",
   "execution_count": 1,
   "metadata": {
    "collapsed": false
   },
   "outputs": [],
   "source": [
    "import numpy as np\n",
    "import matplotlib\n",
    "matplotlib.use('Agg')\n",
    "import matplotlib.pyplot as plt\n",
    "%matplotlib inline\n",
    "from scipy import misc\n",
    "# Make sure that caffe is on the python path:\n",
    "caffe_root = '/home/ubuntu/caffe/'  # this file is expected to be in {caffe_root}/examples\n",
    "import sys\n",
    "sys.path.insert(0, caffe_root + 'python')\n",
    "\n",
    "import caffe\n",
    "caffe.set_mode_cpu()\n",
    "# configure plotting\n",
    "plt.rcParams['figure.figsize'] = (10, 10)\n",
    "plt.rcParams['image.interpolation'] = 'nearest'\n",
    "plt.rcParams['image.cmap'] = 'gray'"
   ]
  },
  {
   "cell_type": "code",
   "execution_count": null,
   "metadata": {
    "collapsed": true
   },
   "outputs": [],
   "source": [
    "# Load the net, list its data and params, and filter an example image.\n",
    "import os\n",
    "os.chdir(caffe_root + 'examples')\n",
    "\n",
    "\n"
   ]
  },
  {
   "cell_type": "code",
   "execution_count": null,
   "metadata": {
    "collapsed": false
   },
   "outputs": [],
   "source": [
    "# Load the original network and extract the fully connected layers' parameters.\n",
    "net = caffe.Net('../models/bvlc_reference_caffenet/deploy.prototxt', \n",
    "                '../models/bvlc_reference_caffenet/bvlc_reference_caffenet.caffemodel', \n",
    "                caffe.TEST)\n",
    "params = ['fc6', 'fc7', 'fc8']\n",
    "# fc_params = {name: (weights, biases)}\n",
    "fc_params = {pr: (net.params[pr][0].data, net.params[pr][1].data) for pr in params}\n",
    "\n",
    "for fc in params:\n",
    "    print '{} weights are {} dimensional and biases are {} dimensional'.format(fc, fc_params[fc][0].shape, fc_params[fc][1].shape)"
   ]
  },
  {
   "cell_type": "code",
   "execution_count": null,
   "metadata": {
    "collapsed": true
   },
   "outputs": [],
   "source": []
  }
 ],
 "metadata": {
  "kernelspec": {
   "display_name": "Python 2",
   "language": "python",
   "name": "python2"
  },
  "language_info": {
   "codemirror_mode": {
    "name": "ipython",
    "version": 2
   },
   "file_extension": ".py",
   "mimetype": "text/x-python",
   "name": "python",
   "nbconvert_exporter": "python",
   "pygments_lexer": "ipython2",
   "version": "2.7.6"
  }
 },
 "nbformat": 4,
 "nbformat_minor": 0
}
