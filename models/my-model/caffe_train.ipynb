{
 "cells": [
  {
   "cell_type": "code",
   "execution_count": null,
   "metadata": {
    "collapsed": false
   },
   "outputs": [],
   "source": [
    "# set up Python environment: numpy for numerical routines, and matplotlib for plotting\n",
    "import numpy as np\n",
    "import matplotlib\n",
    "matplotlib.use('Agg')\n",
    "import matplotlib.pyplot as plt\n",
    "# display plots in this notebook\n",
    "%matplotlib inline\n",
    "\n",
    "# set display defaults\n",
    "plt.rcParams['figure.figsize'] = (10, 10)        # large images\n",
    "plt.rcParams['image.interpolation'] = 'nearest'  # don't interpolate: show square pixels\n",
    "plt.rcParams['image.cmap'] = 'gray'  # use grayscale output rather than a (potentially misleading) color heatmap"
   ]
  },
  {
   "cell_type": "code",
   "execution_count": null,
   "metadata": {
    "collapsed": false
   },
   "outputs": [],
   "source": [
    "# The caffe module needs to be on the Python path;\n",
    "#  we'll add it here explicitly.\n",
    "import sys\n",
    "caffe_root = '/home/ubuntu/caffe/'  # this file should be run from {caffe_root}/examples (otherwise change this line)\n",
    "sys.path.insert(0, caffe_root + 'python')\n",
    "\n",
    "import caffe\n",
    "import os\n",
    "os.chdir('/home/ubuntu/deep-visualization-toolbox/models/my-model')\n",
    "# If you get \"No module named _caffe\", either you have not built pycaffe or you have the wrong path.\n",
    "\n",
    "import io\n",
    "io.stdout = sys.stdout = sys.__stdout__"
   ]
  },
  {
   "cell_type": "code",
   "execution_count": null,
   "metadata": {
    "collapsed": true
   },
   "outputs": [],
   "source": [
    "caffe.set_device(0)\n",
    "caffe.set_mode_gpu()"
   ]
  },
  {
   "cell_type": "code",
   "execution_count": null,
   "metadata": {
    "collapsed": true
   },
   "outputs": [],
   "source": [
    "### load the solver and create train and test nets\n",
    "solver = None  # ignore this workaround for lmdb data (can't instantiate two solvers on the same data)\n",
    "solver = caffe.SGDSolver('sigmoid_solver.prototxt')\n",
    "pretrained_model = caffe_root + 'models/bvlc_reference_caffenet/bvlc_reference_caffenet.caffemodel'\n",
    "solver.net.copy_from(pretrained_model)"
   ]
  },
  {
   "cell_type": "code",
   "execution_count": null,
   "metadata": {
    "collapsed": false
   },
   "outputs": [],
   "source": [
    "def set_ratio(ratio):\n",
    "    solver.net.params['scale1_1'][0].data[...] = 1.0 / ratio\n",
    "    solver.net.params['scale1_2'][0].data[...] = ratio * 4\n",
    "    solver.net.params['scale2_1'][0].data[...] = 1.0 / ratio\n",
    "    solver.net.params['scale2_2'][0].data[...] = ratio * 4\n",
    "    solver.net.params['scale3_1'][0].data[...] = 1.0 / ratio\n",
    "    solver.net.params['scale3_2'][0].data[...] = ratio * 4\n",
    "    solver.net.params['scale4_1'][0].data[...] = 1.0 / ratio\n",
    "    solver.net.params['scale4_2'][0].data[...] = ratio * 4\n",
    "    solver.net.params['scale5_1'][0].data[...] = 1.0 / ratio\n",
    "    solver.net.params['scale5_2'][0].data[...] = ratio * 4\n",
    "    solver.net.params['scale6_1'][0].data[...] = 1.0 / ratio\n",
    "    solver.net.params['scale6_2'][0].data[...] = ratio * 4\n",
    "    solver.net.params['scale7_1'][0].data[...] = 1.0 / ratio\n",
    "    solver.net.params['scale7_2'][0].data[...] = ratio * 4\n",
    "set_ratio(800)"
   ]
  },
  {
   "cell_type": "code",
   "execution_count": null,
   "metadata": {
    "collapsed": false
   },
   "outputs": [],
   "source": [
    "print(solver.test_nets[0].params['scale1_1'][0].data[...])\n",
    "print(solver.net.params['scale5_1'][0].data)\n",
    "print(solver.net.params['bias5'][0].data)"
   ]
  },
  {
   "cell_type": "code",
   "execution_count": null,
   "metadata": {
    "collapsed": false
   },
   "outputs": [],
   "source": [
    "solver.net.forward()  # train net"
   ]
  },
  {
   "cell_type": "code",
   "execution_count": null,
   "metadata": {
    "collapsed": false
   },
   "outputs": [],
   "source": [
    "blobs = solver.net.blobs\n",
    "print(blobs['conv1'].data[0, 0, 0, 0])\n",
    "print(blobs['scale1_2'].data[0, 0, 0, 0])\n",
    "print(blobs['conv2'].data[0, 0, 0, 0])\n",
    "print(blobs['scale2_2'].data[0, 0, 0, 0])\n",
    "print(blobs['conv3'].data[0, 0, 0, 0])\n",
    "print(blobs['scale3_2'].data[0, 0, 0, 0])\n",
    "print(blobs['conv4'].data[0, 0, 0, 0])\n",
    "print(blobs['scale4_2'].data[0, 0, 0, 0])\n",
    "print(blobs['conv5'].data[0, 0, 0, 0])\n",
    "print(blobs['scale5_2'].data[0, 0, 0, 0])\n",
    "print(blobs['fc6'].data[0, 0])\n",
    "print(blobs['scale6_2'].data[0, 0])\n",
    "print(blobs['fc7'].data[0, 0])\n",
    "print(blobs['scale7_2'].data[0, 0])"
   ]
  },
  {
   "cell_type": "code",
   "execution_count": null,
   "metadata": {
    "collapsed": false
   },
   "outputs": [],
   "source": [
    "solver.test_nets[0].forward()  # test net (there can be more than one)"
   ]
  },
  {
   "cell_type": "code",
   "execution_count": null,
   "metadata": {
    "collapsed": false
   },
   "outputs": [],
   "source": [
    "transformer = caffe.io.Transformer({'data': solver.net.blobs['data'].data.shape})\n",
    "data_mean = np.load('ilsvrc12/ilsvrc_2012_mean.npy').mean(1).mean(1)\n",
    "transformer.set_transpose('data', (2,0,1))\n",
    "transformer.set_mean('data', data_mean - 8) # Subtract a bit more to avoid overflow，　only for visualizatio\n",
    "transformer.set_channel_swap('data', (2,1,0))\n",
    "transformer.set_raw_scale('data', 255.0)"
   ]
  },
  {
   "cell_type": "code",
   "execution_count": null,
   "metadata": {
    "collapsed": false
   },
   "outputs": [],
   "source": [
    "lookup_file = 'ilsvrc12/synset_words.txt'\n",
    "lines = open(lookup_file).readlines()\n",
    "names = [line.split()[1] for line in lines]"
   ]
  },
  {
   "cell_type": "code",
   "execution_count": null,
   "metadata": {
    "collapsed": false
   },
   "outputs": [],
   "source": [
    "for index in range(0, 10):\n",
    "    print(names[int(solver.net.blobs['label'].data[index])])\n",
    "    plt.imshow(np.clip(transformer.deprocess('data', solver.net.blobs['data'].data[index]), 0, 254))\n",
    "    plt.show()"
   ]
  },
  {
   "cell_type": "code",
   "execution_count": null,
   "metadata": {
    "collapsed": true
   },
   "outputs": [],
   "source": [
    "solver.step(1)"
   ]
  },
  {
   "cell_type": "code",
   "execution_count": null,
   "metadata": {
    "collapsed": false
   },
   "outputs": [],
   "source": [
    "solver.net.blobs"
   ]
  },
  {
   "cell_type": "code",
   "execution_count": null,
   "metadata": {
    "collapsed": false
   },
   "outputs": [],
   "source": [
    "import time\n",
    "niter = 20000\n",
    "test_interval = 100\n",
    "# losses will also be stored in the log\n",
    "train_loss = np.zeros(niter)\n",
    "test_acc = np.zeros(int(np.ceil(niter / test_interval)))\n",
    "output = np.zeros((niter, 8, 10))\n",
    "\n",
    "begin_time = time.time()\n",
    "# the main solver loop\n",
    "for it in range(niter):\n",
    "    step_time = time.time()\n",
    "    solver.step(1)  # SGD by Caffe\n",
    "    elapsed_time = time.time() - step_time\n",
    "    \n",
    "    # store the train loss\n",
    "    train_loss[it] = solver.net.blobs['loss'].data\n",
    "    print(\"Iter \" + str(it) + \" -- Train loss: \" + str(train_loss[it]) + \n",
    "          \" -- Time used: \" + str(elapsed_time) + \"s -- Total time: \" + str(time.time() - begin_time) + \"s\")\n",
    "\n",
    "    # run a full test every so often\n",
    "    # (Caffe can also do this for us and write to a log, but we show here\n",
    "    #  how to do it directly in Python, where more complicated things are easier.)\n",
    "    if it % test_interval == 0:\n",
    "        print 'Iteration', it, 'testing...'\n",
    "        correct = 0\n",
    "        for test_it in range(100):\n",
    "            solver.test_nets[0].forward()\n",
    "            correct += sum(solver.test_nets[0].blobs['fc8'].data.argmax(1)\n",
    "                           == solver.test_nets[0].blobs['label'].data)\n",
    "        test_acc[it // test_interval] = correct / 1e4\n",
    "        print(\"Test accuracy: \" + str(correct / 1e4))"
   ]
  },
  {
   "cell_type": "code",
   "execution_count": null,
   "metadata": {
    "collapsed": false
   },
   "outputs": [],
   "source": [
    "solver.test_nets[0].blobs['data'].data.shape[0]"
   ]
  },
  {
   "cell_type": "code",
   "execution_count": null,
   "metadata": {
    "collapsed": true
   },
   "outputs": [],
   "source": []
  }
 ],
 "metadata": {
  "kernelspec": {
   "display_name": "Python 2",
   "language": "python",
   "name": "python2"
  },
  "language_info": {
   "codemirror_mode": {
    "name": "ipython",
    "version": 2
   },
   "file_extension": ".py",
   "mimetype": "text/x-python",
   "name": "python",
   "nbconvert_exporter": "python",
   "pygments_lexer": "ipython2",
   "version": "2.7.6"
  }
 },
 "nbformat": 4,
 "nbformat_minor": 0
}
