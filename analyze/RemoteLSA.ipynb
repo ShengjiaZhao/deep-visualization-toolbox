{
 "cells": [
  {
   "cell_type": "code",
   "execution_count": null,
   "metadata": {},
   "outputs": [],
   "source": [
    "import matplotlib\n",
    "%matplotlib inline\n",
    "from matplotlib import pyplot as plt\n",
    "import random, os\n",
    "from config import settings"
   ]
  },
  {
   "cell_type": "code",
   "execution_count": null,
   "metadata": {},
   "outputs": [],
   "source": [
    "from visual_generator import VisualGenerator\n",
    "gen = VisualGenerator()"
   ]
  },
  {
   "cell_type": "code",
   "execution_count": null,
   "metadata": {},
   "outputs": [],
   "source": [
    "import numpy as np\n",
    "activation_root = settings['activation_root']\n",
    "conv3 = np.load(activation_root + 'conv3.npy')\n",
    "conv4 = np.load(activation_root + 'conv4.npy')\n",
    "conv5 = np.load(activation_root + 'conv5.npy')"
   ]
  },
  {
   "cell_type": "code",
   "execution_count": null,
   "metadata": {},
   "outputs": [],
   "source": [
    "u, s, v = np.linalg.svd(conv5, full_matrices=False)"
   ]
  },
  {
   "cell_type": "code",
   "execution_count": null,
   "metadata": {},
   "outputs": [],
   "source": [
    "image_list_file = open(activation_root + 'input.txt')\n",
    "image_list = []\n",
    "while True:\n",
    "    path = image_list_file.readline()\n",
    "    if not path:\n",
    "        break\n",
    "    image_list.append(path.strip())"
   ]
  },
  {
   "cell_type": "code",
   "execution_count": null,
   "metadata": {},
   "outputs": [],
   "source": [
    "node_list = []\n",
    "for index in range(256):\n",
    "    node_list.append({'layer': 'conv5', 'index': index})"
   ]
  },
  {
   "cell_type": "code",
   "execution_count": null,
   "metadata": {},
   "outputs": [],
   "source": [
    "image_feature = u[:, 0:2]\n",
    "unit_feature = v[0:2, :]"
   ]
  },
  {
   "cell_type": "code",
   "execution_count": null,
   "metadata": {},
   "outputs": [],
   "source": [
    "assert conv5.shape[0] == len(image_list) and conv5.shape[1] == len(node_list)"
   ]
  },
  {
   "cell_type": "code",
   "execution_count": null,
   "metadata": {},
   "outputs": [],
   "source": [
    "nodes = []\n",
    "for node, i in zip(node_list, range(len(node_list))):\n",
    "    nodes.append({'layer': node['layer'], 'index': node['index'],\n",
    "                  'coord': [unit_feature[1, i], unit_feature[0, i]]})\n",
    "    \n",
    "images = []\n",
    "random_list = random.sample([i for i in range(len(image_list))], 1000)\n",
    "image_list_new = []\n",
    "image_feature_new = np.ndarray((1000, 2), np.float)\n",
    "for i in range(1000):\n",
    "    image_list_new.append(image_list[random_list[i]])\n",
    "    image_feature_new[i, :] = image_feature[random_list[i], :]\n",
    "image_list = image_list_new\n",
    "image_feature = image_feature_new\n",
    "for image_path, i in zip(image_list, range(1000)):\n",
    "    images.append({'path': image_path,\n",
    "                   'coord': [image_feature[i, 1], image_feature[i, 0]]})"
   ]
  },
  {
   "cell_type": "code",
   "execution_count": null,
   "metadata": {},
   "outputs": [],
   "source": [
    "plot_img = gen.visualize_collage_image(images)\n",
    "fig = plt.figure(figsize=(20, 13))\n",
    "plt.imshow(plot_img)\n",
    "plot_img = gen.visualize_collage_node(nodes)\n",
    "fig = plt.figure(figsize=(20, 13))\n",
    "plt.imshow(plot_img)"
   ]
  },
  {
   "cell_type": "code",
   "execution_count": null,
   "metadata": {},
   "outputs": [],
   "source": [
    "from tsne.tsne import TSNEVisualizer\n",
    "tsne_visualizer = TSNEVisualizer()"
   ]
  },
  {
   "cell_type": "code",
   "execution_count": null,
   "metadata": {},
   "outputs": [],
   "source": [
    "def visualization_callback(coord, iter):\n",
    "    if iter % 20 == 0:\n",
    "        disp_nodes = []\n",
    "        for node, i in zip(node_list, range(len(node_list))):\n",
    "            disp_nodes.append({'layer': node['layer'], 'index': node['index'],\n",
    "                               'coord': [coord[i, 1], coord[i, 0]]})\n",
    "        plot_img = gen.visualize_collage_node(disp_nodes)\n",
    "        fig = plt.figure(figsize=(20, 13))\n",
    "        plt.imshow(plot_img)\n",
    "        plt.show()\n",
    "        \n",
    "def visualization_callback_image(coord, iter):\n",
    "    if iter % 20 == 0:\n",
    "        disp_images = []\n",
    "        for image, i in zip(image_list, range(len(image_list))):\n",
    "            disp_images.append({'path': image,\n",
    "                                'coord': [coord[i, 1], coord[i, 0]]})\n",
    "        plot_img = gen.visualize_collage_image(disp_images)\n",
    "        fig = plt.figure(figsize=(20, 13))\n",
    "        plt.imshow(plot_img)\n",
    "        plt.show()"
   ]
  },
  {
   "cell_type": "code",
   "execution_count": null,
   "metadata": {},
   "outputs": [],
   "source": [
    "tsne_visualizer.tsne(unit_feature.transpose(), 2, 50, 10, visualization_callback)"
   ]
  },
  {
   "cell_type": "code",
   "execution_count": null,
   "metadata": {},
   "outputs": [],
   "source": [
    "tsne_visualizer.tsne(image_feature, 2, 50, 10, visualization_callback_image)"
   ]
  }
 ],
 "metadata": {
  "kernelspec": {
   "display_name": "Python 2",
   "language": "python",
   "name": "python2"
  },
  "language_info": {
   "codemirror_mode": {
    "name": "ipython",
    "version": 2.0
   },
   "file_extension": ".py",
   "mimetype": "text/x-python",
   "name": "python",
   "nbconvert_exporter": "python",
   "pygments_lexer": "ipython2",
   "version": "2.7.6"
  }
 },
 "nbformat": 4,
 "nbformat_minor": 0
}