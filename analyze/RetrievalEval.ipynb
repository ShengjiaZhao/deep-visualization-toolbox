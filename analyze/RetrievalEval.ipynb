{
 "cells": [
  {
   "cell_type": "code",
   "execution_count": null,
   "metadata": {
    "collapsed": false
   },
   "outputs": [],
   "source": [
    "import matplotlib\n",
    "matplotlib.use('Agg')\n",
    "%matplotlib inline\n",
    "from matplotlib import pyplot as plt\n",
    "import numpy as np\n",
    "from scipy import misc\n",
    "from config import settings, settings2, settings3\n",
    "from image_search import *\n",
    "import os, urllib2"
   ]
  },
  {
   "cell_type": "code",
   "execution_count": null,
   "metadata": {
    "collapsed": true
   },
   "outputs": [],
   "source": [
    "image_searcher = ImageSearcher('../models/my-model/original_deploy.prototxt', '../models/caffenet-yos/caffenet-yos-weights', settings)\n",
    "image_searcher_sparse = ImageSearcher('../models/my-model/original_deploy.prototxt', '/home/ubuntu/sdg/sparse_net/sparse_solver.caffemodel', settings2)"
   ]
  },
  {
   "cell_type": "code",
   "execution_count": null,
   "metadata": {
    "collapsed": false,
    "scrolled": true
   },
   "outputs": [],
   "source": [
    "# Random Image list\n",
    "example_list = ['http://pic29.nipic.com/20130506/3822951_102752055000_2.jpg',\n",
    "                'http://www.yangfenzi.com/wp-content/uploads/2016/03/kf-320x320.jpg',\n",
    "                'http://image97.360doc.com/DownloadImg/2016/05/1921/72180400_1.jpg',\n",
    "                'http://pic23.nipic.com/20120917/3646857_190502244141_2.jpg',\n",
    "                'http://pic27.nipic.com/20130331/12213721_235901077001_2.jpg',\n",
    "                'http://pic25.nipic.com/20121120/11287584_092640701115_2.jpg',\n",
    "                'http://pic3.zhongsou.com/image/380af8d631efe8e9768.jpg', \n",
    "                'http://ww2.sinaimg.cn/bmiddle/9da3c13ejw1edywcwmcuhj20fm09yweu.jpg']\n",
    "\n",
    "if not os.path.isdir('temp_image'):\n",
    "    os.mkdir('temp_image')\n",
    "for index in range(len(example_list)):\n",
    "    temp_path = 'temp_image/temp' + str(index) + '.jpg'\n",
    "    img = urllib2.urlopen(example_list[index])\n",
    "    with open(temp_path, 'w') as f:\n",
    "        f.write(img.read())\n",
    "    print(\"Your query Image\")\n",
    "    plt.imshow(misc.imread(temp_path))\n",
    "    plt.show()"
   ]
  },
  {
   "cell_type": "code",
   "execution_count": null,
   "metadata": {
    "collapsed": true
   },
   "outputs": [],
   "source": [
    "print(\"Query results:\")\n",
    "temp_path = 'temp_image/temp' + str(7) + '.jpg'\n",
    "results = image_searcher_sparse.query_image(temp_path)\n",
    "for i in range(0, 10):\n",
    "    plt.imshow(misc.imread(results[i]))\n",
    "    plt.show()"
   ]
  },
  {
   "cell_type": "code",
   "execution_count": null,
   "metadata": {
    "collapsed": true
   },
   "outputs": [],
   "source": [
    "sparse_result = ['1111011100',\n",
    "'1000100111',\n",
    "'1000000000',\n",
    "'0000110001',\n",
    "'1111111001',\n",
    "'0000010000',\n",
    "'0001000000',\n",
    "'1100000000']\n",
    "\n",
    "regular_result = ['1100010111',\n",
    "'1000000001',\n",
    "'1000000000',\n",
    "'0101000100',\n",
    "'0110000001',\n",
    "'1000000001',\n",
    "'0010110000',\n",
    "'0000000000']"
   ]
  },
  {
   "cell_type": "code",
   "execution_count": null,
   "metadata": {
    "collapsed": true
   },
   "outputs": [],
   "source": [
    "# Compute precision-recall curve\n",
    "def get_precision(result_list):\n",
    "    correct_list = [0] * 10\n",
    "    for res in result_list:\n",
    "        for i in range(0, 10):\n",
    "            if res[i] == '1':\n",
    "                correct_list[i] += 1\n",
    "    precision = []\n",
    "    for i in range(10):\n",
    "        if i == 0:\n",
    "            precision.append(correct_list[i])\n",
    "        else:\n",
    "            precision.append(precision[-1] + correct_list[i])\n",
    "    for i in range(10):\n",
    "        precision[i] /= 10.0 * (i+1)\n",
    "    return precision\n",
    "plt.plot(get_precision(sparse_result), label='Sparse CaffeNet')\n",
    "plt.plot(get_precision(regular_result), hold=True, label='CaffeNet')\n",
    "plt.xlabel('number of results')\n",
    "plt.ylabel('precision')\n",
    "plt.legend()\n",
    "plt.show()"
   ]
  },
  {
   "cell_type": "code",
   "execution_count": null,
   "metadata": {
    "collapsed": true
   },
   "outputs": [],
   "source": []
  }
 ],
 "metadata": {
  "kernelspec": {
   "display_name": "Python 2",
   "language": "python",
   "name": "python2"
  },
  "language_info": {
   "codemirror_mode": {
    "name": "ipython",
    "version": 2
   },
   "file_extension": ".py",
   "mimetype": "text/x-python",
   "name": "python",
   "nbconvert_exporter": "python",
   "pygments_lexer": "ipython2",
   "version": "2.7.6"
  }
 },
 "nbformat": 4,
 "nbformat_minor": 0
}
