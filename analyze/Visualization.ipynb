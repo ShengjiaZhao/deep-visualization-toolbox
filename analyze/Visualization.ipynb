{
 "cells": [
  {
   "cell_type": "code",
   "execution_count": null,
   "metadata": {},
   "outputs": [],
   "source": [
    "import matplotlib\n",
    "matplotlib.use('Agg')\n",
    "%matplotlib inline\n",
    "from matplotlib import pyplot as plt\n",
    "import numpy as np\n",
    "from scipy import misc\n",
    "import random\n",
    "\n",
    "from config import settings\n",
    "from visual_generator import VisualGenerator\n",
    "visualizer = VisualGenerator()\n",
    "layers = ['conv5']\n",
    "\n",
    "image_root = settings['image_root']\n",
    "activation_root = settings['activation_root']"
   ]
  },
  {
   "cell_type": "code",
   "execution_count": null,
   "metadata": {},
   "outputs": [],
   "source": [
    "layer_lut = []\n",
    "activation_list = []\n",
    "size_sum = 0\n",
    "for layer in layers:\n",
    "    activation_list.append(np.load(activation_root  + layer + '.npy'))\n",
    "    size_sum += activation_list[-1].shape[1]\n",
    "    layer_lut.append(size_sum)\n",
    "activation = np.concatenate(activation_list, 1)\n",
    "print(activation.shape)\n",
    "print(layer_lut)"
   ]
  },
  {
   "cell_type": "code",
   "execution_count": null,
   "metadata": {},
   "outputs": [],
   "source": [
    "# Read in path for all the images\n",
    "\n",
    "image_list_file = open(settings['activation_root'] + 'input.txt')\n",
    "image_list = []\n",
    "while True:\n",
    "    path = image_list_file.readline()\n",
    "    if not path:\n",
    "        break\n",
    "    image_list.append(path.strip())"
   ]
  },
  {
   "cell_type": "code",
   "execution_count": null,
   "metadata": {},
   "outputs": [],
   "source": [
    "# Normalize activations\n",
    "avg_activation = np.tile(np.sqrt(np.sum(activation ** 2, 0)), (len(image_list), 1))\n",
    "activation = np.divide(activation, avg_activation)"
   ]
  },
  {
   "cell_type": "code",
   "execution_count": null,
   "metadata": {},
   "outputs": [],
   "source": [
    "len(image_list)"
   ]
  },
  {
   "cell_type": "code",
   "execution_count": null,
   "metadata": {},
   "outputs": [],
   "source": [
    "def plot_activations(index):\n",
    "    plt.imshow(misc.imread(image_root + image_list[index]))\n",
    "    plt.show()\n",
    "    nodes = []\n",
    "    max_nodes = np.argsort(activation[index, :])[-20:]\n",
    "    for index in max_nodes:\n",
    "        for i in range(len(layer_lut)):\n",
    "            if index < layer_lut[i]:\n",
    "                layer = layers[i]\n",
    "                if i == 0:\n",
    "                    layer_index = index\n",
    "                else:\n",
    "                    layer_index = index % layer_lut[i-1]\n",
    "                break\n",
    "        nodes.append({'layer': layer, 'index': layer_index})\n",
    "    fig = plt.figure(figsize=(20, 13))\n",
    "    plt.imshow(visualizer.visualize_in_grid(nodes, include_deconv=False, activation_per_node=1))\n",
    "    plt.show()"
   ]
  },
  {
   "cell_type": "code",
   "execution_count": null,
   "metadata": {},
   "outputs": [],
   "source": [
    "import random\n",
    "plot_activations(random.randint(0, len(image_list)-1))"
   ]
  },
  {
   "cell_type": "code",
   "execution_count": null,
   "metadata": {},
   "outputs": [],
   "source": [
    "similarity = np.dot(activations.transpose(), activations)\n",
    "def plot_similar(query):\n",
    "    most_similar = np.argsort(similarity[query, :])[-20:][::-1]\n",
    "    print(most_similar, query)\n",
    "    nodes = []\n",
    "    for index in most_similar:\n",
    "        for i in range(len(layer_lut)):\n",
    "            if index < layer_lut[i]:\n",
    "                layer = layers[i]\n",
    "                if i == 0:\n",
    "                    layer_index = index\n",
    "                else:\n",
    "                    layer_index = index % layer_lut[i-1]\n",
    "                break\n",
    "        nodes.append({'layer': layer, 'index': layer_index})\n",
    "    fig = plt.figure(figsize=(20, 13))\n",
    "    plt.imshow(visualizer.visualize_in_grid(nodes))\n",
    "    plt.show()"
   ]
  },
  {
   "cell_type": "code",
   "execution_count": null,
   "metadata": {},
   "outputs": [],
   "source": [
    "import random\n",
    "plot_similar(random.randint(0, similarity.shape[0]))"
   ]
  },
  {
   "cell_type": "code",
   "execution_count": null,
   "metadata": {},
   "outputs": [],
   "source": [
    "plt.imshow(similarity)"
   ]
  },
  {
   "cell_type": "code",
   "execution_count": null,
   "metadata": {},
   "outputs": [],
   "source": [
    ""
   ]
  }
 ],
 "metadata": {
  "kernelspec": {
   "display_name": "Python 2",
   "language": "python",
   "name": "python2"
  },
  "language_info": {
   "codemirror_mode": {
    "name": "ipython",
    "version": 2.0
   },
   "file_extension": ".py",
   "mimetype": "text/x-python",
   "name": "python",
   "nbconvert_exporter": "python",
   "pygments_lexer": "ipython2",
   "version": "2.7.6"
  }
 },
 "nbformat": 4,
 "nbformat_minor": 0
}