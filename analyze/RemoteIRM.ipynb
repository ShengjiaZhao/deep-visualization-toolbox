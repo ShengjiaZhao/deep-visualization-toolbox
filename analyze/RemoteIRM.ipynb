{
 "cells": [
  {
   "cell_type": "code",
   "execution_count": null,
   "metadata": {
    "collapsed": true
   },
   "outputs": [],
   "source": [
    "import matplotlib\n",
    "matplotlib.use('Agg')\n",
    "%matplotlib inline\n",
    "from matplotlib import pyplot as plt\n",
    "import pymc as pm2\n",
    "import numpy as np\n",
    "from config import settings\n",
    "from theano import tensor as T"
   ]
  },
  {
   "cell_type": "code",
   "execution_count": null,
   "metadata": {
    "collapsed": false
   },
   "outputs": [],
   "source": [
    "# Load in conv5 activation data and convert to binary convariance by a threshold\n",
    "x = np.load(settings['activation_root'] + 'binary_10_conv5.npy')\n",
    "cov = np.dot(x.transpose(), x)\n",
    "for i in range(0, cov.shape[0]):\n",
    "    cov[i, i] = 0\n",
    "cov /= np.max(cov)\n",
    "observation_matrix = np.zeros(cov.shape, np.int32)\n",
    "for i in range(cov.shape[0]):\n",
    "    for j in range(cov.shape[1]):\n",
    "        if cov[i, j] > 0.2:\n",
    "            observation_matrix[i, j] = 1\n",
    "print(np.sum(observation_matrix))\n",
    "plt.imshow(observation_matrix)\n",
    "plt.show()\n",
    "\n",
    "num_data = observation_matrix.shape[0]"
   ]
  },
  {
   "cell_type": "code",
   "execution_count": null,
   "metadata": {
    "collapsed": true
   },
   "outputs": [],
   "source": [
    "# Generate random matrix\n",
    "import random\n",
    "num_data = 200\n",
    "num_classes = 4\n",
    "\n",
    "# Generate some classes\n",
    "candidate = [i for i in range(0, num_data)]\n",
    "classes = np.ndarray(num_data, np.int)\n",
    "class_count = np.zeros(num_classes, np.int)\n",
    "class_dist = pm2.Geometric('class_dist', 0.4)\n",
    "for i in range(0, num_data):\n",
    "    classes[i] = class_dist.random() - 1\n",
    "    if classes[i] >= num_classes:\n",
    "        classes[i] = random.randint(0, num_classes-1)\n",
    "    class_count[classes[i]] += 1\n",
    "prob_between_class = np.exp(-np.random.rand(num_classes, num_classes)*2)\n",
    "print(\"Class size distribution: \" + str(class_count))"
   ]
  },
  {
   "cell_type": "code",
   "execution_count": null,
   "metadata": {
    "collapsed": true
   },
   "outputs": [],
   "source": [
    "observation_matrix = np.zeros((num_data, num_data), np.int)\n",
    "for i in range(0, num_data):\n",
    "    for j in range(i, num_data):   \n",
    "        if random.random() < prob_between_class[classes[i], classes[j]]:\n",
    "            observation_matrix[i, j] = 1\n",
    "        else:\n",
    "            observation_matrix[i, j] = 0    \n",
    "        observation_matrix[j, i] = observation_matrix[i, j]\n",
    "plt.imshow(observation_matrix)\n",
    "plt.show()"
   ]
  },
  {
   "cell_type": "code",
   "execution_count": null,
   "metadata": {
    "collapsed": true
   },
   "outputs": [],
   "source": [
    "# Plot correct results for randomly generated data\n",
    "correct_order = np.argsort(classes)\n",
    "# Permute the matrix according to the assignments\n",
    "permuted = np.ndarray((num_data, num_data), np.int)\n",
    "result = np.ndarray((num_data, num_data), np.int)\n",
    "for i in range(0, num_data):\n",
    "    permuted[i, :] = observation_matrix[correct_order[i], :]\n",
    "for i in range(0, num_data):\n",
    "    result[:, i] = permuted[:, correct_order[i]]\n",
    "plt.imshow(result)\n",
    "class_sum = 0\n",
    "for i in range(0, num_classes-1):\n",
    "    class_sum += class_count[i]\n",
    "    plt.axhline(y=class_sum, c='g')\n",
    "    plt.axvline(x=class_sum, c='g')\n",
    "plt.show()"
   ]
  },
  {
   "cell_type": "code",
   "execution_count": null,
   "metadata": {
    "collapsed": true
   },
   "outputs": [],
   "source": [
    "def flatten(mat):\n",
    "    result = np.ndarray((num_data*num_data,), np.int)\n",
    "    for i in range(mat.shape[0]):\n",
    "        for j in range(mat.shape[1]):\n",
    "            result[i * mat.shape[1] + j] = mat[i, j]\n",
    "    return result"
   ]
  },
  {
   "cell_type": "code",
   "execution_count": null,
   "metadata": {
    "collapsed": true
   },
   "outputs": [],
   "source": [
    "beta = 2\n",
    "num_clusters = 10\n",
    " \n",
    "alpha = pm2.Gamma('alpha', 1., 1.)\n",
    "mu = pm2.Beta('mu', 2.0, 2.0, size=num_clusters*num_clusters)\n",
    "# cluster_prior = pm.Dirichlet('cluster_prior', np.ones(num_clusters) / num_clusters)\n",
    "beta = pm2.Beta('beta', 1., alpha, size=num_clusters)\n",
    "@pm2.deterministic\n",
    "def cluster_prior(beta=beta):\n",
    "    unnormalized = beta * np.concatenate([[1], np.cumprod(1 - beta)[:-1]])\n",
    "    return unnormalized / np.sum(unnormalized)\n",
    "# Normalize\n",
    "assignment = pm2.Categorical('assignment', cluster_prior, size=num_data)\n",
    "\n",
    "@pm2.deterministic\n",
    "def prob(assignment1=assignment, assignment2=assignment, mu=mu):\n",
    "    return [mu[a1 * num_clusters + a2] for a1 in assignment1 for a2 in assignment2]\n",
    "\n",
    "observation = pm2.Bernoulli('observation', prob, observed=True, value=flatten(observation_matrix))"
   ]
  },
  {
   "cell_type": "code",
   "execution_count": null,
   "metadata": {
    "collapsed": false
   },
   "outputs": [],
   "source": [
    "model = pm2.Model([alpha, mu, beta, cluster_prior, assignment, prob, observation])\n",
    "mcmc_iter = 4000\n",
    "mc = pm2.MCMC(model)\n",
    "mc.sample(mcmc_iter, burn=2000)"
   ]
  },
  {
   "cell_type": "code",
   "execution_count": null,
   "metadata": {
    "collapsed": false
   },
   "outputs": [],
   "source": [
    "cluster_samples = mc.trace(\"cluster_prior\")[:]\n",
    "assignment_samples = mc.trace('assignment')[:]\n",
    "import scipy\n",
    "mode = scipy.stats.mode(assignment_samples, 0)[0][0]\n",
    "cluster_posterior = list(np.sum(cluster_samples, 0) / float(mcmc_iter))\n",
    "cluster_posterior /= np.sum(cluster_posterior)\n",
    "order = np.argsort(mode)\n",
    "count = np.zeros(num_clusters, np.int)\n",
    "for item in mode:\n",
    "    count[int(round(item))] += 1\n",
    "print(cluster_posterior)\n",
    "print(count)\n",
    "print(mode)"
   ]
  },
  {
   "cell_type": "code",
   "execution_count": null,
   "metadata": {
    "collapsed": false
   },
   "outputs": [],
   "source": [
    "# Permute the matrix according to the assignments\n",
    "permuted = np.ndarray((num_data, num_data), np.int)\n",
    "result = np.ndarray((num_data, num_data), np.int)\n",
    "for i in range(0, num_data):\n",
    "    permuted[i, :] = observation_matrix[order[i], :]\n",
    "for i in range(0, num_data):\n",
    "    result[:, i] = permuted[:, order[i]]\n",
    "class_sum = 0\n",
    "for i in range(0, num_clusters-1):\n",
    "    class_sum += count[i]\n",
    "    plt.axhline(y=class_sum, c='g')\n",
    "    plt.axvline(x=class_sum, c='g')\n",
    "plt.imshow(result)\n",
    "plt.show()"
   ]
  },
  {
   "cell_type": "code",
   "execution_count": null,
   "metadata": {
    "collapsed": true
   },
   "outputs": [],
   "source": [
    "# Visualize the derived clusters"
   ]
  }
 ],
 "metadata": {
  "kernelspec": {
   "display_name": "Python 2",
   "language": "python",
   "name": "python2"
  },
  "language_info": {
   "codemirror_mode": {
    "name": "ipython",
    "version": 2
   },
   "file_extension": ".py",
   "mimetype": "text/x-python",
   "name": "python",
   "nbconvert_exporter": "python",
   "pygments_lexer": "ipython2",
   "version": "2.7.6"
  }
 },
 "nbformat": 4,
 "nbformat_minor": 0
}
